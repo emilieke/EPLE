{
 "cells": [
  {
   "cell_type": "markdown",
   "metadata": {},
   "source": [
    "### TEAM EPLE"
   ]
  },
  {
   "cell_type": "code",
   "execution_count": 3,
   "metadata": {
    "collapsed": false
   },
   "outputs": [],
   "source": [
    "import numpy as np # linear algebra\n",
    "import pandas as pd # data processing\n",
    "import matplotlib.pyplot as plt # plotting\n",
    "import matplotlib\n",
    "import os"
   ]
  },
  {
   "cell_type": "markdown",
   "metadata": {},
   "source": [
    "Read train and test set"
   ]
  },
  {
   "cell_type": "code",
   "execution_count": 96,
   "metadata": {
    "collapsed": false
   },
   "outputs": [
    {
     "name": "stdout",
     "output_type": "stream",
     "text": [
      "(3350601, 8)\n",
      "(1147687, 8)\n"
     ]
    }
   ],
   "source": [
    "train = pd.read_csv('train.txt',sep='|')\n",
    "test = pd.read_csv('test.txt',sep='|')\n",
    "\n",
    "print (train.shape)\n",
    "print (test.shape)"
   ]
  },
  {
   "cell_type": "markdown",
   "metadata": {},
   "source": [
    "Check for missing values"
   ]
  },
  {
   "cell_type": "code",
   "execution_count": 97,
   "metadata": {
    "collapsed": false
   },
   "outputs": [
    {
     "data": {
      "text/plain": [
       "ID_Customer      False\n",
       "Cod_Prod         False\n",
       "Cod_Fecha        False\n",
       "Socio_Demo_01    False\n",
       "Socio_Demo_02    False\n",
       "Socio_Demo_03    False\n",
       "Socio_Demo_04    False\n",
       "Socio_Demo_05    False\n",
       "dtype: bool"
      ]
     },
     "execution_count": 97,
     "metadata": {},
     "output_type": "execute_result"
    }
   ],
   "source": [
    "train.isnull().any()\n",
    "test.isnull().any()"
   ]
  },
  {
   "cell_type": "markdown",
   "metadata": {},
   "source": [
    "Convert dates to datetime"
   ]
  },
  {
   "cell_type": "code",
   "execution_count": 98,
   "metadata": {
    "collapsed": false
   },
   "outputs": [],
   "source": [
    "train['Cod_Fecha'] = pd.to_datetime(train['Cod_Fecha'],format=\"%Y-%m-%d\")\n",
    "test['Cod_Fecha'] = pd.to_datetime(test['Cod_Fecha'],format=\"%Y-%m-%d\")\n",
    "\n",
    "#train['Cod_Fecha'].unique()"
   ]
  },
  {
   "cell_type": "markdown",
   "metadata": {},
   "source": [
    "Adding a column for month as customers might consider buying products in a certain month of the year"
   ]
  },
  {
   "cell_type": "code",
   "execution_count": 99,
   "metadata": {
    "collapsed": true
   },
   "outputs": [],
   "source": [
    "train['Month'] = pd.DatetimeIndex(train['Cod_Fecha']).month\n",
    "test['Month'] = pd.DatetimeIndex(test['Cod_Fecha']).month"
   ]
  },
  {
   "cell_type": "markdown",
   "metadata": {},
   "source": [
    "Function for creating dummy variables"
   ]
  },
  {
   "cell_type": "code",
   "execution_count": 100,
   "metadata": {
    "collapsed": false
   },
   "outputs": [],
   "source": [
    "# Define new dataset\n",
    "train_new = train\n",
    "test_new = test\n",
    "\n",
    "def create_dummy(data,var_name,cat_name,cat_list):\n",
    "    dummies = pd.get_dummies(data[str(var_name)]).rename(columns=lambda x: str(cat_name) + str(cat_list[x-1]))\n",
    "    data = pd.concat([data, dummies], axis=1)\n",
    "    data = data.drop([var_name], axis=1)\n",
    "    return data"
   ]
  },
  {
   "cell_type": "markdown",
   "metadata": {},
   "source": [
    "Create new train set with dummy variables"
   ]
  },
  {
   "cell_type": "code",
   "execution_count": 101,
   "metadata": {
    "collapsed": false
   },
   "outputs": [],
   "source": [
    "# Socio_Demo_1: age intervals\n",
    "train_new = create_dummy(train_new,'Socio_Demo_01','Age_',['U18','U30','U45','U65','O65'])\n",
    "# Socia_Demo_2: number of years as customer\n",
    "train_new = create_dummy(train_new,'Socio_Demo_02','Customer_Years_',['U1','U5','U10','U20','O20'])\n",
    "# Socia_Demo_3: revenue\n",
    "train_new = create_dummy(train_new,'Socio_Demo_03','Revenue_',['U6','U12','U24','U32','O32'])\n",
    "# Socia_Demo_4: sex\n",
    "train_new = create_dummy(train_new,'Socio_Demo_04','Sex_',['M','F'])\n",
    "# Socia_Demo_5: working segment\n",
    "train_new = create_dummy(train_new,'Socio_Demo_05','Segment_',['Private','Farmer','Trade','Self'])"
   ]
  },
  {
   "cell_type": "markdown",
   "metadata": {},
   "source": [
    "Create new test set with dummy variables"
   ]
  },
  {
   "cell_type": "code",
   "execution_count": 102,
   "metadata": {
    "collapsed": true
   },
   "outputs": [],
   "source": [
    "# Socio_Demo_1: age intervals\n",
    "test_new = create_dummy(test_new,'Socio_Demo_01','Age_',['U18','U30','U45','U65','O65'])\n",
    "# Socia_Demo_2: number of years as customer\n",
    "test_new = create_dummy(test_new,'Socio_Demo_02','Customer_Years_',['U1','U5','U10','U20','O20'])\n",
    "# Socia_Demo_3: revenue\n",
    "test_new = create_dummy(test_new,'Socio_Demo_03','Revenue_',['U6','U12','U24','U32','O32'])\n",
    "# Socia_Demo_4: sex\n",
    "test_new = create_dummy(test_new,'Socio_Demo_04','Sex_',['M','F'])\n",
    "# Socia_Demo_5: working segment\n",
    "test_new = create_dummy(test_new,'Socio_Demo_05','Segment_',['Private','Farmer','Trade','Self'])"
   ]
  },
  {
   "cell_type": "markdown",
   "metadata": {},
   "source": [
    "Check that the data sets are correct"
   ]
  },
  {
   "cell_type": "code",
   "execution_count": 106,
   "metadata": {
    "collapsed": false
   },
   "outputs": [],
   "source": [
    "#train_new\n",
    "#test_new"
   ]
  },
  {
   "cell_type": "code",
   "execution_count": null,
   "metadata": {
    "collapsed": true
   },
   "outputs": [],
   "source": []
  },
  {
   "cell_type": "code",
   "execution_count": null,
   "metadata": {
    "collapsed": true
   },
   "outputs": [],
   "source": []
  },
  {
   "cell_type": "code",
   "execution_count": null,
   "metadata": {
    "collapsed": true
   },
   "outputs": [],
   "source": []
  },
  {
   "cell_type": "code",
   "execution_count": null,
   "metadata": {
    "collapsed": true
   },
   "outputs": [],
   "source": []
  }
 ],
 "metadata": {
  "anaconda-cloud": {},
  "kernelspec": {
   "display_name": "Python [conda env:py3.2]",
   "language": "python",
   "name": "conda-env-py3.2-py"
  },
  "language_info": {
   "codemirror_mode": {
    "name": "ipython",
    "version": 3
   },
   "file_extension": ".py",
   "mimetype": "text/x-python",
   "name": "python",
   "nbconvert_exporter": "python",
   "pygments_lexer": "ipython3",
   "version": "3.6.0"
  }
 },
 "nbformat": 4,
 "nbformat_minor": 1
}
